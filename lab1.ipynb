{
 "cells": [
  {
   "cell_type": "markdown",
   "metadata": {},
   "source": [
    "# lab 1"
   ]
  },
  {
   "cell_type": "code",
   "execution_count": 5,
   "metadata": {},
   "outputs": [
    {
     "name": "stdout",
     "output_type": "stream",
     "text": [
      "{'seq1': 'cGTAaccaataaaaaaacaagcttaacctaattc', 'seq2': 'agcttagTTTGGatctggccgggg', 'seq3': 'gcggatttactcCCCCCAAAAANNaggggagagcccagataaatggagtctgtgcgtccaca', 'seq4': 'gcggatttactcaggggagagcccagGGataaatggagtctgtgcgtccaca'}\n"
     ]
    }
   ],
   "source": [
    "import pandas as pd\n",
    "import matplotlib.pyplot as plt\n",
    "\n",
    "def read_text(file_path):\n",
    "    sequence = {}\n",
    "    current_header = None\n",
    "    current_seq = \"\"\n",
    "\n",
    "## opens the .txt file and saves it as a variable.\n",
    "    with open(file_path) as file:\n",
    "        for line in file:\n",
    "            line = line.strip()\n",
    "            if line.startswith('>'):\n",
    "                if current_header is not None:\n",
    "                    sequence[current_header] = current_seq\n",
    "\n",
    "                current_header = line[1:]\n",
    "                current_seq = \"\"\n",
    "            else:\n",
    "                current_seq += line\n",
    "        if current_header is not None:\n",
    "            sequence[current_header] = current_seq\n",
    "    return sequence\n",
    "\n",
    "## file path saved as a variable for easier management\n",
    "file_path = 'c:\\\\users\\\\ricka\\\\source\\\\repos\\\\python\\\\lab_1\\\\dna_raw.txt'\n",
    "\n",
    "sequence = read_text(file_path)\n",
    "print(sequence)\n"
   ]
  }
 ],
 "metadata": {
  "kernelspec": {
   "display_name": ".venv",
   "language": "python",
   "name": "python3"
  },
  "language_info": {
   "codemirror_mode": {
    "name": "ipython",
    "version": 3
   },
   "file_extension": ".py",
   "mimetype": "text/x-python",
   "name": "python",
   "nbconvert_exporter": "python",
   "pygments_lexer": "ipython3",
   "version": "3.13.1"
  }
 },
 "nbformat": 4,
 "nbformat_minor": 2
}
